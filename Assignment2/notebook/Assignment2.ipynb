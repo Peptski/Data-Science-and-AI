{
 "cells": [
  {
   "cell_type": "markdown",
   "id": "marked-kernel",
   "metadata": {},
   "source": [
    "# Assignment 1: Introduction to Data Science and Python"
   ]
  },
  {
   "cell_type": "code",
   "execution_count": 1,
   "id": "dressed-stationery",
   "metadata": {},
   "outputs": [],
   "source": [
    "import matplotlib.pyplot as plt\n",
    "import numpy as np\n",
    "import pandas as pd\n",
    "import matplotlib.colors as colors\n",
    "from sklearn import datasets"
   ]
  },
  {
   "cell_type": "markdown",
   "id": "organized-burner",
   "metadata": {},
   "source": [
    "## Contributors:\n",
    "### Lukas Andersson - XX Hours\n",
    "### Ramapriya Navalpakkam - XX hours"
   ]
  },
  {
   "cell_type": "markdown",
   "id": "supported-blink",
   "metadata": {},
   "source": [
    "## 1.\n",
    "\n",
    "### a.\n",
    "COMMNET: Entries 25, 35, 46, 41, 10 were deleted on the second graph  "
   ]
  },
  {
   "cell_type": "code",
   "execution_count": 6,
   "id": "remarkable-claim",
   "metadata": {},
   "outputs": [
    {
     "data": {
      "image/png": "[encoded data removed]",
      "text/plain": [
       "<Figure size 432x288 with 1 Axes>"
      ]
     },
     "metadata": {
      "needs_background": "light"
     },
     "output_type": "display_data"
    }
   ],
   "source": [
    "x = []\n",
    "y = []\n",
    "\n",
    "df = pd.read_csv('../data/data_assignment2.csv')\n",
    "\n",
    "for index, row in df.iterrows():\n",
    "    x.append(row['Living_area'])\n",
    "    y.append(row['Selling_price'])\n",
    "\n",
    "plt.scatter(x, y)\n",
    "plt.title('All entires')\n",
    "plt.show()\n"
   ]
  },
  {
   "cell_type": "code",
   "execution_count": 7,
   "id": "governing-basic",
   "metadata": {},
   "outputs": [
    {
     "data": {
      "image/png": "[encoded data removed]",
      "text/plain": [
       "<Figure size 432x288 with 1 Axes>"
      ]
     },
     "metadata": {
      "needs_background": "light"
     },
     "output_type": "display_data"
    }
   ],
   "source": [
    "x = []\n",
    "y = []\n",
    "\n",
    "df = pd.read_csv('../data/data_assignment2_clean.csv')\n",
    "\n",
    "for index, row in df.iterrows():\n",
    "    x.append(row['Living_area'])\n",
    "    y.append(row['Selling_price'])\n",
    "\n",
    "plt.scatter(x, y)\n",
    "plt.title('All entires')\n",
    "plt.show()\n"
   ]
  },
  {
   "cell_type": "markdown",
   "id": "sporting-humanity",
   "metadata": {},
   "source": [
    "### b."
   ]
  },
  {
   "cell_type": "markdown",
   "id": "coastal-charger",
   "metadata": {},
   "source": [
    "### c."
   ]
  },
  {
   "cell_type": "markdown",
   "id": "necessary-reduction",
   "metadata": {},
   "source": [
    "### d."
   ]
  },
  {
   "cell_type": "markdown",
   "id": "weighted-orientation",
   "metadata": {},
   "source": [
    "### e."
   ]
  },
  {
   "cell_type": "markdown",
   "id": "important-separation",
   "metadata": {},
   "source": [
    "## 2.\n",
    "\n",
    "### a."
   ]
  },
  {
   "cell_type": "markdown",
   "id": "velvet-spring",
   "metadata": {},
   "source": [
    "### b."
   ]
  },
  {
   "cell_type": "markdown",
   "id": "another-greene",
   "metadata": {},
   "source": [
    "### c."
   ]
  },
  {
   "cell_type": "markdown",
   "id": "bottom-biodiversity",
   "metadata": {},
   "source": [
    "## 3."
   ]
  }
 ],
 "metadata": {
  "kernelspec": {
   "display_name": "Python 3",
   "language": "python",
   "name": "python3"
  },
  "language_info": {
   "codemirror_mode": {
    "name": "ipython",
    "version": 3
   },
   "file_extension": ".py",
   "mimetype": "text/x-python",
   "name": "python",
   "nbconvert_exporter": "python",
   "pygments_lexer": "ipython3",
   "version": "3.8.5"
  }
 },
 "nbformat": 4,
 "nbformat_minor": 5
}
