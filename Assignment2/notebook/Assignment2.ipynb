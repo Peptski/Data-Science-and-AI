{
 "cells": [
  {
   "cell_type": "markdown",
   "id": "congressional-research",
   "metadata": {},
   "source": [
    "# Assignment 1: Introduction to Data Science and Python"
   ]
  },
  {
   "cell_type": "code",
   "execution_count": 1,
   "id": "opposed-russian",
   "metadata": {},
   "outputs": [],
   "source": [
    "import matplotlib.pyplot as plt\n",
    "import numpy as np\n",
    "import pandas as pd\n",
    "import matplotlib.colors as colors\n",
    "from sklearn import datasets"
   ]
  },
  {
   "cell_type": "markdown",
   "id": "associate-sentence",
   "metadata": {},
   "source": [
    "## Contributors:\n",
    "### Lukas Andersson - XX Hours\n",
    "### Ramapriya Navalpakkam - XX hours"
   ]
  },
  {
   "cell_type": "markdown",
   "id": "hired-desire",
   "metadata": {},
   "source": [
    "## 1.\n",
    "\n",
    "### a.\n",
    "COMMNET: Entries 25, 35, 46, 41, 10, 50, 20 were deleted on the second graph  "
   ]
  },
  {
   "cell_type": "code",
   "execution_count": 2,
   "id": "swedish-spirit",
   "metadata": {},
   "outputs": [
    {
     "name": "stdout",
     "output_type": "stream",
     "text": [
      "Coefficient: 30685.98591789919 Intercept: 1092324.2121230674\n"
     ]
    },
    {
     "data": {
      "image/png": "[encoded data removed]",
      "text/plain": [
       "<Figure size 432x288 with 1 Axes>"
      ]
     },
     "metadata": {
      "needs_background": "light"
     },
     "output_type": "display_data"
    }
   ],
   "source": [
    "x = []\n",
    "y = []\n",
    "\n",
    "df = pd.read_csv('../data/data_assignment2_clean.csv')\n",
    "\n",
    "for index, row in df.iterrows():\n",
    "    x.append(row['Living_area'])\n",
    "    y.append(row['Selling_price'])\n",
    "    \n",
    "plt.plot(x, y, 'o')\n",
    "    \n",
    "model = np.polyfit(x, y, 1)\n",
    "predict = np.poly1d(model)\n",
    "\n",
    "x_lin_reg = np.linspace(60.0, 200.0, num=49)\n",
    "y_lin_reg = predict(x_lin_reg)\n",
    "\n",
    "plt.scatter(x, y)\n",
    "plt.plot(x_lin_reg, y_lin_reg, c = 'r')\n",
    "\n",
    "print(\"Coefficient: \" + str(model[0]) + \" Intercept: \" + str(model[1]))"
   ]
  },
  {
   "cell_type": "markdown",
   "id": "economic-penalty",
   "metadata": {},
   "source": [
    "### b.  \n",
    "  \n",
    "The coeefficient of the graph above is 30685.98591789919 while the intercept is 1092324.2121230674"
   ]
  },
  {
   "cell_type": "markdown",
   "id": "false-local",
   "metadata": {},
   "source": [
    "### c.  \n",
    "  \n",
    "According to our predictions, 100 would be 4160922.803912986, 150 would be 5695222.099807946 and 200 would be 7229521.395702905."
   ]
  },
  {
   "cell_type": "code",
   "execution_count": 3,
   "id": "eight-recycling",
   "metadata": {},
   "outputs": [
    {
     "name": "stdout",
     "output_type": "stream",
     "text": [
      "[4160922.803912986, 5695222.099807946, 7229521.395702905]\n"
     ]
    }
   ],
   "source": [
    "predictions = [predict(100), predict(150), predict(200)]\n",
    "               \n",
    "print(predictions)"
   ]
  },
  {
   "cell_type": "markdown",
   "id": "competitive-reward",
   "metadata": {},
   "source": [
    "### d."
   ]
  },
  {
   "cell_type": "code",
   "execution_count": 4,
   "id": "sitting-paraguay",
   "metadata": {},
   "outputs": [
    {
     "data": {
      "image/png": "[encoded data removed]",
      "text/plain": [
       "<Figure size 432x288 with 1 Axes>"
      ]
     },
     "metadata": {
      "needs_background": "light"
     },
     "output_type": "display_data"
    }
   ],
   "source": [
    "linspace = range(0, 49)\n",
    "\n",
    "resy = []\n",
    "\n",
    "for i in linspace:\n",
    "    resy.append(y[i] - predict(x[i]))\n",
    "    \n",
    "plt.scatter(linspace, resy)\n",
    "plt.axhline(y=0, color='r', linestyle='-')\n",
    "plt.show()"
   ]
  },
  {
   "cell_type": "markdown",
   "id": "secondary-satellite",
   "metadata": {},
   "source": [
    "### e."
   ]
  },
  {
   "cell_type": "markdown",
   "id": "sudden-trading",
   "metadata": {},
   "source": [
    "## 2.\n",
    "\n",
    "### a."
   ]
  },
  {
   "cell_type": "markdown",
   "id": "magnetic-round",
   "metadata": {},
   "source": [
    "### b."
   ]
  },
  {
   "cell_type": "markdown",
   "id": "noted-window",
   "metadata": {},
   "source": [
    "### c."
   ]
  },
  {
   "cell_type": "markdown",
   "id": "worthy-woman",
   "metadata": {},
   "source": [
    "## 3."
   ]
  }
 ],
 "metadata": {
  "kernelspec": {
   "display_name": "Python 3",
   "language": "python",
   "name": "python3"
  },
  "language_info": {
   "codemirror_mode": {
    "name": "ipython",
    "version": 3
   },
   "file_extension": ".py",
   "mimetype": "text/x-python",
   "name": "python",
   "nbconvert_exporter": "python",
   "pygments_lexer": "ipython3",
   "version": "3.8.5"
  }
 },
 "nbformat": 4,
 "nbformat_minor": 5
}
