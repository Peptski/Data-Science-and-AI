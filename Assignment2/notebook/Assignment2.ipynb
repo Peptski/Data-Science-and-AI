{
 "cells": [
  {
   "cell_type": "markdown",
   "id": "compatible-crazy",
   "metadata": {},
   "source": [
    "# Assignment 1: Introduction to Data Science and Python"
   ]
  },
  {
   "cell_type": "code",
   "execution_count": 1,
   "id": "colonial-aging",
   "metadata": {},
   "outputs": [],
   "source": [
    "import matplotlib.pyplot as plt\n",
    "import numpy as np\n",
    "import pandas as pd\n",
    "import matplotlib.colors as colors\n",
    "from sklearn import datasets"
   ]
  },
  {
   "cell_type": "markdown",
   "id": "individual-folder",
   "metadata": {},
   "source": [
    "## Contributors:\n",
    "### Lukas Andersson - XX Hours\n",
    "### Ramapriya Navalpakkam - XX hours"
   ]
  },
  {
   "cell_type": "markdown",
   "id": "reflected-envelope",
   "metadata": {},
   "source": [
    "## 1.\n",
    "\n",
    "### a."
   ]
  },
  {
   "cell_type": "markdown",
   "id": "personalized-institution",
   "metadata": {},
   "source": [
    "### b."
   ]
  },
  {
   "cell_type": "markdown",
   "id": "approximate-option",
   "metadata": {},
   "source": [
    "### c."
   ]
  },
  {
   "cell_type": "markdown",
   "id": "loved-harmony",
   "metadata": {},
   "source": [
    "### d."
   ]
  },
  {
   "cell_type": "markdown",
   "id": "chief-slovenia",
   "metadata": {},
   "source": [
    "### e."
   ]
  },
  {
   "cell_type": "markdown",
   "id": "proof-minimum",
   "metadata": {},
   "source": [
    "## 2.\n",
    "\n",
    "### a."
   ]
  },
  {
   "cell_type": "markdown",
   "id": "fifty-ebony",
   "metadata": {},
   "source": [
    "### b."
   ]
  },
  {
   "cell_type": "markdown",
   "id": "equal-makeup",
   "metadata": {},
   "source": [
    "### c."
   ]
  },
  {
   "cell_type": "markdown",
   "id": "unlimited-power",
   "metadata": {},
   "source": [
    "## 3."
   ]
  }
 ],
 "metadata": {
  "kernelspec": {
   "display_name": "Python 3",
   "language": "python",
   "name": "python3"
  },
  "language_info": {
   "codemirror_mode": {
    "name": "ipython",
    "version": 3
   },
   "file_extension": ".py",
   "mimetype": "text/x-python",
   "name": "python",
   "nbconvert_exporter": "python",
   "pygments_lexer": "ipython3",
   "version": "3.8.5"
  }
 },
 "nbformat": 4,
 "nbformat_minor": 5
}
