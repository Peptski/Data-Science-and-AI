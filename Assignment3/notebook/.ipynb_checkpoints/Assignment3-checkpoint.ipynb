{
 "cells": [
  {
   "cell_type": "markdown",
   "id": "crucial-burning",
   "metadata": {},
   "source": [
    "# Assignment 3: Clustering"
   ]
  },
  {
   "cell_type": "code",
   "execution_count": 1,
   "id": "conservative-animation",
   "metadata": {},
   "outputs": [],
   "source": [
    "import matplotlib.pyplot as plt\n",
    "import numpy as np\n",
    "import pandas as pd"
   ]
  },
  {
   "cell_type": "markdown",
   "id": "forty-fiction",
   "metadata": {},
   "source": [
    "## Contributors:\n",
    "### Lukas Andersson - XX Hours\n",
    "### Ramapriya Navalpakkam - XX Hours"
   ]
  },
  {
   "cell_type": "markdown",
   "id": "artificial-immunology",
   "metadata": {},
   "source": [
    "## 1.\n",
    "\n",
    "### a."
   ]
  },
  {
   "cell_type": "markdown",
   "id": "creative-nowhere",
   "metadata": {},
   "source": [
    "### b."
   ]
  },
  {
   "cell_type": "markdown",
   "id": "vulnerable-jamaica",
   "metadata": {},
   "source": [
    "## 2.\n",
    "\n",
    "### a."
   ]
  },
  {
   "cell_type": "markdown",
   "id": "clean-infection",
   "metadata": {},
   "source": [
    "### b."
   ]
  },
  {
   "cell_type": "markdown",
   "id": "rising-paragraph",
   "metadata": {},
   "source": [
    "### c."
   ]
  },
  {
   "cell_type": "markdown",
   "id": "smaller-official",
   "metadata": {},
   "source": [
    "### d."
   ]
  },
  {
   "cell_type": "markdown",
   "id": "complicated-classics",
   "metadata": {},
   "source": [
    "## 3.\n",
    "\n",
    "### a."
   ]
  },
  {
   "cell_type": "markdown",
   "id": "suitable-collapse",
   "metadata": {},
   "source": [
    "### i."
   ]
  },
  {
   "cell_type": "markdown",
   "id": "endless-tongue",
   "metadata": {},
   "source": [
    "### ii."
   ]
  },
  {
   "cell_type": "markdown",
   "id": "focused-equipment",
   "metadata": {},
   "source": [
    "### b."
   ]
  },
  {
   "cell_type": "markdown",
   "id": "royal-builder",
   "metadata": {},
   "source": [
    "### c."
   ]
  },
  {
   "cell_type": "markdown",
   "id": "buried-herald",
   "metadata": {},
   "source": [
    "## 4.\n",
    "\n",
    "### a."
   ]
  },
  {
   "cell_type": "markdown",
   "id": "inappropriate-business",
   "metadata": {},
   "source": [
    "### b."
   ]
  }
 ],
 "metadata": {
  "kernelspec": {
   "display_name": "Python 3",
   "language": "python",
   "name": "python3"
  },
  "language_info": {
   "codemirror_mode": {
    "name": "ipython",
    "version": 3
   },
   "file_extension": ".py",
   "mimetype": "text/x-python",
   "name": "python",
   "nbconvert_exporter": "python",
   "pygments_lexer": "ipython3",
   "version": "3.8.5"
  }
 },
 "nbformat": 4,
 "nbformat_minor": 5
}
