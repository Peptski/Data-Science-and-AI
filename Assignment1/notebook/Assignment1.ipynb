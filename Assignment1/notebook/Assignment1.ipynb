{
 "cells": [
  {
   "cell_type": "markdown",
   "id": "south-windsor",
   "metadata": {},
   "source": [
    "# Assignment 1: Introduction to Data Science and Python\n"
   ]
  },
  {
   "cell_type": "code",
   "execution_count": null,
   "id": "final-puzzle",
   "metadata": {
    "pycharm": {
     "is_executing": true
    }
   },
   "outputs": [],
   "source": [
    "import matplotlib.pyplot as plt\n",
    "import numpy as np\n",
    "import pandas as pd"
   ]
  },
  {
   "cell_type": "markdown",
   "id": "junior-parish",
   "metadata": {},
   "source": [
    "## Contributors:\n",
    "### Lukas Andersson - X Hours\n",
    "###"
   ]
  },
  {
   "cell_type": "markdown",
   "id": "loved-voltage",
   "metadata": {},
   "source": [
    "## 1.\n",
    "\n",
    "### a.\n",
    "In this first assignment we manipulate given data to later print it out as a scatter plot. By looking at the data you quickly realize that the life expectancy data have way more entires than the given GDP data. This has two reasons, firstly because every country has data from several years, not just 2015, in the life expectancy table. And secondly because they do not have the same set of countries to begin with. To solve this we first remove every single entry that does not have data from the year of 2015, since thats the only data we have on GDP. Then we loop through all those entries and make sure to only keep the ones where the country exists in both data sets. When we filterd out all data we do not want, we simply plot out the results. The first graph includes all data and the second one excludes the entry far right.  "
   ]
  },
  {
   "cell_type": "code",
   "execution_count": null,
   "id": "nearby-qatar",
   "metadata": {
    "pycharm": {
     "is_executing": true
    }
   },
   "outputs": [],
   "source": [
    "x = []\n",
    "y = []\n",
    "\n",
    "df1 = pd.read_csv('../data/GDP-2015.csv')\n",
    "df2 = pd.read_csv('../data/life-expectancy.csv')\n",
    "\n",
    "for index2, row2 in df2.iterrows():\n",
    "    if row2['Year'] == 2015:\n",
    "        for index1, row1 in df1.iterrows():\n",
    "            if row2['Entity'] == row1['Entity']:\n",
    "                x.append(row1['GDP per capita'])\n",
    "                y.append(row2['Life expectancy (years)'])\n",
    "                \n",
    "data = np.column_stack((x, y))\n",
    "\n",
    "plt.scatter(x, y)\n",
    "plt.title('All entires')\n",
    "plt.show()\n",
    "\n",
    "plt.scatter(x, y)\n",
    "plt.title('Odd datapoint excluded')\n",
    "plt.xlim([0, 85000])\n",
    "plt.ylim([50, 85])\n",
    "plt.show()"
   ]
  },
  {
   "cell_type": "markdown",
   "id": "documented-joining",
   "metadata": {},
   "source": [
    "### b.\n",
    "When looking at the result we clearly see that when the GDP per capita goes up, (X axis), the life expectancy generally also goes up. There are some countries with high life expectancy even tho the GDP is low, but not the other way around. There is in our data set only one country that has a low life expectancy while the GDP is relatively high. This one data point is the only thing contradicting the correlation between GDP and life expectancy so we would draw the conclusion that high GDP in fact does contribute to higher life expectancy. The second graph that excludes the entry far to the right simply is a zoomed in version to make the correaltion more visible.\n",
    "\n",
    "This result seems very reasonable since higher life expectancy is what you would think will happen if you have a higher GDP per capita, very resonable."
   ]
  },
  {
   "cell_type": "markdown",
   "id": "defensive-citizenship",
   "metadata": {},
   "source": [
    "### c.\n",
    "No, nothing was removed from the data however we made two plots, where one datapoint is not included in the second one. The reason for this is becuase that datapoint is so extreme compared to the other data, so it is more visually pleasing not not include it and easier see the correlation.   \n",
    "  \n",
    "TODO: Modify after all questions are complete"
   ]
  },
  {
   "cell_type": "markdown",
   "id": "chinese-combine",
   "metadata": {},
   "source": [
    "### d.\n",
    "Below is a list with all countries that have life expectancy higher than one standar deviation above the mean."
   ]
  },
  {
   "cell_type": "code",
   "execution_count": null,
   "id": "assured-buyer",
   "metadata": {
    "collapsed": false,
    "jupyter": {
     "outputs_hidden": false
    },
    "pycharm": {
     "name": "#%%\n",
     "is_executing": true
    }
   },
   "outputs": [],
   "source": [
    "countries_LE_above_OneSD = []\n",
    "one_sd_above_mean = (data.mean(axis=0)  + data.std(axis=0))[1]\n",
    "for index, row in df2.iterrows():\n",
    "    if row['Year'] == 2015:\n",
    "        if(row['Life expectancy (years)'] >  one_sd_above_mean):\n",
    "            countries_LE_above_OneSD.append(row['Entity'])\n",
    "dfd = pd.DataFrame(countries_LE_above_OneSD)\n",
    "pd.set_option(\"display.max_rows\", None, \"display.max_columns\", None)\n",
    "print(dfd)"
   ]
  },
  {
   "cell_type": "markdown",
   "id": "collaborative-albuquerque",
   "metadata": {},
   "source": [
    "### e.\n",
    "Every country in the top left of the graph  \n",
    "\n",
    "COMMENT: We might have to display the countries that have GDP below mean and life expectency above mean. OR do we take 1 or 2 SDs above mean?  \n",
    "COMMENT: I think it would be better with 1 SDs from the mean as of right now there are way too many results, did not get it to work when I tried to do 1 SD above/below the mean  "
   ]
  },
  {
   "cell_type": "code",
   "execution_count": null,
   "id": "excess-static",
   "metadata": {
    "collapsed": false,
    "jupyter": {
     "outputs_hidden": false
    },
    "pycharm": {
     "name": "#%%\n",
     "is_executing": true
    }
   },
   "outputs": [],
   "source": [
    "countries_lowGDP_highLE = []\n",
    "for index2, row2 in df2.iterrows():\n",
    "    if row2['Year'] == 2015:\n",
    "        for index1, row1 in df1.iterrows():\n",
    "            if row1['GDP per capita'] < data.mean(axis=0)[0] and row2['Life expectancy (years)'] > data.mean(axis=0)[1] :\n",
    "                countries_lowGDP_highLE.append(row1['Entity'])\n",
    "\n",
    "dfd = pd.DataFrame(countries_lowGDP_highLE)\n",
    "pd.set_option(\"display.max_rows\", 50, \"display.max_columns\", 50)\n",
    "print(dfd)\n",
    "\n",
    "print(data.mean(axis=0))"
   ]
  },
  {
   "cell_type": "markdown",
   "id": "delayed-dancing",
   "metadata": {},
   "source": [
    "### f.\n",
    "There seems to be an upgoing trend for countries with high GDP, however, there are several countries with quite low life expectancy even though they have quite high GDP. The average life expectancy is 72 years in our data, if you look at the graph below you can see that even ones very far right (High GDP) are below average life expectancy. So it depends on what you classify as low life expectancy, if below average is considerd low there is for sure countries with high GDP and low life expectancy.\n",
    "\n",
    "COMMENT: They are after the GDP and not GDP per capita here, we need to convert it somehow. I tried doing it with a seprate population table but got way too complex and had long runtime.  "
   ]
  },
  {
   "cell_type": "code",
   "execution_count": null,
   "id": "stock-ghana",
   "metadata": {
    "pycharm": {
     "is_executing": true
    }
   },
   "outputs": [],
   "source": [
    "x1 = []\n",
    "y1 = []\n",
    "\n",
    "df3 = pd.read_csv('../data/national-gdp.csv')\n",
    "\n",
    "for index2, row2 in df2.iterrows():\n",
    "    if row2['Year'] == 2015:\n",
    "        for index3, row3 in df3.iterrows():\n",
    "            if row3['Year'] == 2015 and row3[\"Entity\"] == row2[\"Entity\"]:\n",
    "                x.append(row3[\"Total output-side real GDP at chained PPPs (tot_rgdp_o) (PWT 9.1 (2019))\"])\n",
    "                y.append(row2['Life expectancy (years)'])\n",
    "                \n",
    "data = np.column_stack((x, y))\n",
    "\n",
    "plt.scatter(x, y)\n",
    "plt.title('All entires')\n",
    "plt.xlim([0, 450000000000])\n",
    "plt.ylim([50, 85])\n",
    "plt.show()"
   ]
  },
  {
   "cell_type": "markdown",
   "id": "seventh-inventory",
   "metadata": {},
   "source": [
    "### g.\n",
    "If we would use GDP per capita instead we could use the graph we made earlier in question A. We can see on this graph that every single data point quickly gets above the average life expectancy (72 Years). There is only one exception to this which is Equatorial Guinea, that stands out a lot on the graph being extremely low life expectancy despite having quite high GDP per capita. This is however just one extreme data point and should not be the base of any conclusions, the vast majority of the data suggests that high GDP per capita actually seem to imply that the life expectancy is not low in that specific country.    \n",
    "\n",
    "This means that GDP per capita seems to be a better indicator than just GDP if you want to see a correalation between GDP and life expectancy. This is quite reasonable too since the GDP of a country says nothing about what the majority of peoples living standards are. You need to relate the GDP to the population to get any info about how the living standards could be."
   ]
  },
  {
   "cell_type": "markdown",
   "source": [],
   "metadata": {
    "collapsed": false
   }
  },
  {
   "cell_type": "code",
   "execution_count": null,
   "id": "unable-coalition",
   "metadata": {
    "pycharm": {
     "is_executing": true
    }
   },
   "outputs": [],
   "source": [
    "plt.scatter(x, y)\n",
    "plt.title('Odd datapoint excluded')\n",
    "plt.xlim([0, 85000])\n",
    "plt.ylim([50, 85])\n",
    "plt.show()"
   ]
  },
  {
   "cell_type": "markdown",
   "id": "surrounded-burden",
   "metadata": {
    "pycharm": {
     "name": "#%% md\n"
    }
   },
   "source": [
    "## 2.\n",
    "We have chosen two datasets for this analysis. One being a survey based on the share of people who say they are happy\n",
    "across the world recorded and percentage of unemployment across the world recorded overtime. The happiness percentages were recorded\n",
    "from different years in different countries. We have hence chosen to pick data from 2004 to 2014 to make a fair analysis."
   ]
  },
  {
   "cell_type": "markdown",
   "source": [
    "### a.\n",
    "COMMENT : Use different graphs like Violin or heat Map or bar graph\n",
    "\n",
    "\n",
    "\n",
    "\n",
    "Visualisation of unemployement over years.\n",
    "\n",
    "Visualisation of happiness over years.\n",
    "\n",
    "We first analyse the data to see the correlation between percentages of unemployment and happiness.\n",
    "\n",
    "** THE ANALYSIS HERE **\n",
    "\n",
    "We then analyse if the reduced percentages of happiness is caused by increased rate of unemployment or\n",
    "or vice versa\n",
    "\n",
    "\n",
    "COMMENT : This involves constructing a hypothesis, conducting an experiment and then derive results.\n",
    "Dont know if we would want to do that.\n",
    "\n",
    "\n",
    "Are there countries having low unemployment rate and low happiness rates?\n",
    "\n",
    "Are there countries having high unemployment rate and high happiness rates?\n",
    "\n",
    "Global trends or national trends"
   ],
   "metadata": {
    "collapsed": false
   }
  },
  {
   "cell_type": "markdown",
   "source": [
    "### b.\n",
    "\n",
    "##### Conclusions derived from raw data :\n",
    "TODO : The below points need to be justified or derived a conclusion from.\n",
    "- The values of unemployement and share of people who are happy are represented in percentages.\n",
    "- The happiness percentages were recorded from different years in different countries\n",
    "- The recorded happiness percentages differ to a great amount in certain countries from one year to the next.\n"
   ],
   "metadata": {
    "collapsed": false
   }
  },
  {
   "cell_type": "markdown",
   "source": [],
   "metadata": {
    "collapsed": false
   }
  }
 ],
 "metadata": {
  "kernelspec": {
   "name": "python3",
   "language": "python",
   "display_name": "Python 3"
  },
  "language_info": {
   "codemirror_mode": {
    "name": "ipython",
    "version": 3
   },
   "file_extension": ".py",
   "mimetype": "text/x-python",
   "name": "python",
   "nbconvert_exporter": "python",
   "pygments_lexer": "ipython3",
   "version": "3.8.5"
  }
 },
 "nbformat": 4,
 "nbformat_minor": 5
}