{
 "cells": [
  {
   "cell_type": "markdown",
   "id": "written-knowing",
   "metadata": {},
   "source": [
    "# Assignment 1: Introduction to Data Science and Python\n"
   ]
  },
  {
   "cell_type": "code",
   "execution_count": 6,
   "id": "appointed-development",
   "metadata": {},
   "outputs": [],
   "source": [
    "import matplotlib.pyplot as plt\n",
    "import numpy as np\n",
    "import pandas as pd\n",
    "from sklearn import datasets"
   ]
  },
  {
   "cell_type": "markdown",
   "id": "electronic-webmaster",
   "metadata": {},
   "source": [
    "## Contributors:\n",
    "### Lukas Andersson - X Hours\n",
    "###"
   ]
  },
  {
   "cell_type": "markdown",
   "id": "recent-volleyball",
   "metadata": {},
   "source": [
    "## 1.\n",
    "\n",
    "### a.\n",
    "In this first assignment we manipulate given data to later print it out as a scatter plot. By looking at the data you quickly realize that the life expectancy data have way more entires than the given GDP data. This has two reasons, firstly because every country has data from several years, not just 2015, in the life expectancy table. And secondly because they do not have the same set of countries to begin with. To solve this we first remove every single entry that does not have data from the year of 2015, since thats the only data we have on GDP. Then we loop through all those entries and make sure to only keep the ones where the country exists in both data sets. When we filterd out all data we do not want, we simply plot out the results. The first graph includes all data and the second one excludes the entry far right.  "
   ]
  },
  {
   "cell_type": "code",
   "execution_count": 7,
   "id": "empty-senegal",
   "metadata": {},
   "outputs": [
    {
     "data": {
      "text/plain": "<Figure size 432x288 with 1 Axes>",
      "image/png": "[encoded data removed]"
     },
     "metadata": {
      "needs_background": "light"
     },
     "output_type": "display_data"
    },
    {
     "data": {
      "text/plain": "<Figure size 432x288 with 1 Axes>",
      "image/png": "[encoded data removed]"
     },
     "metadata": {
      "needs_background": "light"
     },
     "output_type": "display_data"
    }
   ],
   "source": [
    "x = []\n",
    "y = []\n",
    "\n",
    "df1 = pd.read_csv('../data/GDP-2015.csv')\n",
    "df2 = pd.read_csv('../data/life-expectancy.csv')\n",
    "\n",
    "for index2, row2 in df2.iterrows():\n",
    "    if row2['Year'] == 2015:\n",
    "        for index1, row1 in df1.iterrows():\n",
    "            if row2['Entity'] == row1['Entity']:\n",
    "                x.append(row1['GDP per capita'])\n",
    "                y.append(row2['Life expectancy (years)'])\n",
    "                \n",
    "data = np.column_stack((x, y))\n",
    "\n",
    "plt.scatter(x, y)\n",
    "plt.title('All entires')\n",
    "plt.show()\n",
    "\n",
    "plt.scatter(x, y)\n",
    "plt.title('Odd datapoint excluded')\n",
    "plt.xlim([0, 85000])\n",
    "plt.ylim([50, 85])\n",
    "plt.show()"
   ]
  },
  {
   "cell_type": "markdown",
   "id": "labeled-blend",
   "metadata": {},
   "source": [
    "### b.\n",
    "When looking at the result we clearly see that when the GDP per capita goes up, (X axis), the life expectancy generally also goes up. There are some countries with high life expectancy even tho the GDP is low, but not the other way around. There is in our data set only one country that has a low life expectancy while the GDP is relatively high. This one data point is the only thing contradicting the correlation between GDP and life expectancy so we would draw the conclusion that high GDP in fact does contribute to higher life expectancy. The second graph that excludes the entry far to the right simply is a zoomed in version to make the correaltion more visible.\n",
    "\n",
    "This result seems very reasonable since higher life expectancy is what you would think will happen if you have a higher GDP per capita, very resonable."
   ]
  },
  {
   "cell_type": "markdown",
   "id": "clean-iraqi",
   "metadata": {},
   "source": [
    "### c.\n",
    "No, nothing was removed from the data however we made two plots, where one datapoint is not included in the second one. The reason for this is becuase that datapoint is so extreme compared to the other data, so it is more visually pleasing not not include it and easier see the correlation. "
   ]
  },
  {
   "cell_type": "markdown",
   "id": "compact-piece",
   "metadata": {},
   "source": [
    "### d."
   ]
  },
  {
   "cell_type": "code",
   "execution_count": 32,
   "outputs": [
    {
     "name": "stdout",
     "output_type": "stream",
     "text": [
      "{'Italy', 'Falkland Islands', 'Germany', 'Switzerland', 'Israel', 'Macao', 'Austria', 'Saint Barthlemy', 'Channel Islands', 'Finland', 'Norway', 'Spain', 'Singapore', 'United Kingdom', 'Belgium', 'Greece', 'Ireland', 'Bermuda', 'Saint Helena', 'Luxembourg', 'Saint Pierre and Miquelon', 'Japan', 'Faeroe Islands', 'Canada', 'Australia', 'Tokelau', 'Denmark', 'Monaco', 'New Zealand', 'Martinique', 'Anguilla', 'Andorra', 'Slovenia', 'Sweden', 'Cyprus', 'Portugal', 'Hong Kong', 'France', 'Iceland', 'Isle of Man', 'Saint Martin (French part)', 'Liechtenstein', 'Malta', 'Netherlands', 'South Korea', 'Guadeloupe', 'Cayman Islands', 'San Marino'}\n"
     ]
    }
   ],
   "source": [
    "countries_LE_above_OneSD = set()\n",
    "one_sd_above_mean = (data.mean(axis=0)  + data.std(axis=0))[1]\n",
    "for index, row in df2.iterrows():\n",
    "    if row['Year'] == 2015:\n",
    "        if(row['Life expectancy (years)'] >  one_sd_above_mean):\n",
    "            countries_LE_above_OneSD.add(row['Entity'])\n",
    "print(countries_LE_above_OneSD)"
   ],
   "metadata": {
    "collapsed": false,
    "pycharm": {
     "name": "#%%\n"
    }
   }
  },
  {
   "cell_type": "markdown",
   "id": "raising-unemployment",
   "metadata": {},
   "source": [
    "### e.\n",
    "Every country in the top left of the graph \n",
    "TODO: Not sure if we should include actual examples or not\n",
    "COMMENT : We might have to display the countries that have GDP below mean and life expectency above mean. OR do we take 1 or 2 SDs above mean?"
   ]
  },
  {
   "cell_type": "code",
   "execution_count": 33,
   "outputs": [
    {
     "name": "stdout",
     "output_type": "stream",
     "text": [
      "{'Azerbaijan', 'Dominica', 'Congo', 'Yemen', 'Uzbekistan', 'Cape Verde', 'Cambodia', 'North Korea', 'Uganda', 'Niger', 'Cuba', 'Jamaica', 'Democratic Republic of Congo', 'Namibia', 'Saint Lucia', 'Burkina Faso', 'Algeria', 'Brazil', 'Rwanda', 'Chad', 'Guinea-Bissau', 'Ukraine', 'Bulgaria', 'Nepal', 'Tunisia', 'Albania', 'Peru', 'China', 'Mozambique', 'Swaziland', 'Tajikistan', 'Colombia', 'Costa Rica', 'Palestine', 'Montenegro', 'Kyrgyzstan', 'Lebanon', 'Libya', 'Zambia', 'Haiti', 'Sao Tome and Principe', 'Armenia', 'Vietnam', 'Nicaragua', 'Mali', 'El Salvador', 'Cameroon', 'Sudan', 'Dominican Republic', 'Guatemala', 'Laos', 'Morocco', 'Zimbabwe', 'Mauritania', 'Philippines', 'Barbados', 'Benin', 'Ghana', 'Georgia', 'Mongolia', 'Madagascar', 'Kenya', 'Togo', 'Bosnia and Herzegovina', 'Liberia', 'Angola', 'Egypt', 'Bangladesh', 'Jordan', 'Myanmar', 'Iraq', 'Burundi', 'Sierra Leone', 'Comoros', 'Ethiopia', 'Mexico', 'Afghanistan', 'Venezuela', 'Paraguay', 'Moldova', 'Guinea', 'Botswana', 'Serbia', 'Gabon', 'Iran', 'Honduras', 'Senegal', \"Cote d'Ivoire\", 'South Africa', 'Macedonia', 'Sri Lanka', 'Thailand', 'Syria', 'Tanzania', 'Lesotho', 'Nigeria', 'Djibouti', 'Bolivia', 'Central African Republic', 'Malawi', 'Gambia', 'Pakistan', 'Ecuador', 'Indonesia', 'India'}\n"
     ]
    }
   ],
   "source": [
    "countries_lowGDP_highLE = set()\n",
    "mean_for_data = data.mean(axis=0)\n",
    "for index2, row2 in df2.iterrows():\n",
    "    if row2['Year'] == 2015:\n",
    "        for index1, row1 in df1.iterrows():\n",
    "            if row1['GDP per capita'] < data.mean(axis=0)[0] and row2['Life expectancy (years)'] > data.mean(axis=0)[1] :\n",
    "                countries_lowGDP_highLE.add(row1['Entity'])\n",
    "\n",
    "print(countries_lowGDP_highLE)"
   ],
   "metadata": {
    "collapsed": false,
    "pycharm": {
     "name": "#%%\n"
    }
   }
  },
  {
   "cell_type": "markdown",
   "id": "institutional-myanmar",
   "metadata": {},
   "source": [
    "### f.\n",
    "TODO: Not sure what the question is after, if it just wants o know if any of our data has high GDP per capita but low life expectancy there is one country, Equatorial guinea which stands out a lot on the graph\n",
    "COMMENT: same as previous question mean plus SD or just mean? The above mentioned country is very well evident and can be mentioned"
   ]
  },
  {
   "cell_type": "code",
   "execution_count": 34,
   "outputs": [
    {
     "name": "stdout",
     "output_type": "stream",
     "text": [
      "{'Azerbaijan', 'Dominica', 'Congo', 'Yemen', 'Russia', 'Uzbekistan', 'Cape Verde', 'Cambodia', 'North Korea', 'Spain', 'Uganda', 'Niger', 'Belarus', 'Argentina', 'Malaysia', 'Mauritius', 'Cuba', 'Jamaica', 'Democratic Republic of Congo', 'Namibia', 'Saint Lucia', 'Canada', 'Burkina Faso', 'Algeria', 'Brazil', 'Rwanda', 'Denmark', 'Chad', 'New Zealand', 'Lithuania', 'Guinea-Bissau', 'Hungary', 'Cyprus', 'Portugal', 'Ukraine', 'Italy', 'Croatia', 'Panama', 'Bulgaria', 'Nepal', 'Tunisia', 'Albania', 'Israel', 'Trinidad and Tobago', 'Peru', 'China', 'Mozambique', 'Austria', 'Finland', 'Puerto Rico', 'Swaziland', 'Tajikistan', 'Colombia', 'Romania', 'Costa Rica', 'Czechoslovakia', 'Taiwan', 'Palestine', 'Saudi Arabia', 'Montenegro', 'Kyrgyzstan', 'Lebanon', 'Bahrain', 'Libya', 'Poland', 'Estonia', 'Zambia', 'Slovenia', 'Sweden', 'Haiti', 'Seychelles', 'Sao Tome and Principe', 'Kazakhstan', 'Armenia', 'Vietnam', 'Nicaragua', 'Mali', 'El Salvador', 'United Arab Emirates', 'Cameroon', 'Sudan', 'Dominican Republic', 'Guatemala', 'Laos', 'Qatar', 'Morocco', 'United States', 'Zimbabwe', 'Mauritania', 'Uruguay', 'Chile', 'Philippines', 'Belgium', 'Barbados', 'Kuwait', 'Turkmenistan', 'Benin', 'Ghana', 'Georgia', 'Mongolia', 'Madagascar', 'Ireland', 'Kenya', 'Luxembourg', 'Togo', 'Czech Republic', 'Bosnia and Herzegovina', 'Liberia', 'Angola', 'Egypt', 'Bangladesh', 'Jordan', 'Myanmar', 'Iraq', 'Burundi', 'Sierra Leone', 'Hong Kong', 'Iceland', 'Comoros', 'Netherlands', 'Ethiopia', 'South Korea', 'Mexico', 'Switzerland', 'Afghanistan', 'Germany', 'Venezuela', 'Paraguay', 'Turkey', 'Moldova', 'Guinea', 'Botswana', 'Serbia', 'United Kingdom', 'Norway', 'Latvia', 'Singapore', 'Gabon', 'Iran', 'Greece', 'Honduras', 'Senegal', \"Cote d'Ivoire\", 'South Africa', 'Macedonia', 'Sri Lanka', 'Thailand', 'Japan', 'Syria', 'Tanzania', 'Lesotho', 'Australia', 'Nigeria', 'Djibouti', 'Bolivia', 'Central African Republic', 'Malawi', 'Gambia', 'Oman', 'Pakistan', 'Slovakia', 'Ecuador', 'Equatorial Guinea', 'France', 'Malta', 'Indonesia', 'India'}\n"
     ]
    }
   ],
   "source": [
    "countries_highGDP_lowLE = set()\n",
    "mean_for_data = data.mean(axis=0)\n",
    "for index2, row2 in df2.iterrows():\n",
    "    if row2['Year'] == 2015:\n",
    "        for index1, row1 in df1.iterrows():\n",
    "            if row1['GDP per capita'] > data.mean(axis=0)[0] and row2['Life expectancy (years)'] < data.mean(axis=0)[1] :\n",
    "                countries_lowGDP_highLE.add(row1['Entity'])\n",
    "\n",
    "print(countries_lowGDP_highLE)"
   ],
   "metadata": {
    "collapsed": false,
    "pycharm": {
     "name": "#%%\n"
    }
   }
  },
  {
   "cell_type": "markdown",
   "id": "single-thanks",
   "metadata": {},
   "source": [
    "### g.\n",
    "TODO"
   ]
  },
  {
   "cell_type": "markdown",
   "id": "earned-november",
   "metadata": {},
   "source": [
    "## 2.\n",
    "\n",
    "### a.\n"
   ]
  },
  {
   "cell_type": "markdown",
   "id": "sustainable-brooks",
   "metadata": {},
   "source": [
    "### b.\n"
   ]
  }
 ],
 "metadata": {
  "kernelspec": {
   "display_name": "Python 3",
   "language": "python",
   "name": "python3"
  },
  "language_info": {
   "codemirror_mode": {
    "name": "ipython",
    "version": 3
   },
   "file_extension": ".py",
   "mimetype": "text/x-python",
   "name": "python",
   "nbconvert_exporter": "python",
   "pygments_lexer": "ipython3",
   "version": "3.8.5"
  }
 },
 "nbformat": 4,
 "nbformat_minor": 5
}