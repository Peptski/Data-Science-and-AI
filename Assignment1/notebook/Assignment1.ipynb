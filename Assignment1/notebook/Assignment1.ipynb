{
 "cells": [
  {
   "cell_type": "markdown",
   "id": "designing-conclusion",
   "metadata": {},
   "source": [
    "# Assignment 1: Introduction to Data Science and Python\n"
   ]
  },
  {
   "cell_type": "code",
   "execution_count": 1,
   "id": "hundred-sender",
   "metadata": {},
   "outputs": [],
   "source": [
    "import matplotlib.pyplot as plt\n",
    "import numpy as np\n",
    "import pandas as pd\n",
    "from sklearn import datasets"
   ]
  },
  {
   "cell_type": "markdown",
   "id": "senior-probe",
   "metadata": {},
   "source": [
    "## Contributors:\n",
    "### Lukas Andersson - X Hours\n",
    "###"
   ]
  },
  {
   "cell_type": "markdown",
   "id": "impressive-bible",
   "metadata": {},
   "source": [
    "## 1.\n",
    "\n",
    "### a.\n",
    "In this first assignment we manipulate given data to later print it out as a scatter plot. By looking at the data you quickly realize that the life expectancy data have way more entires than the given GDP data. This has two reasons, firstly because every country has data from several years, not just 2015, in the life expectancy table. And secondly because they do not have the same set of countries to begin with. To solve this we first remove every single entry that does not have data from the year of 2015, since thats the only data we have on GDP. Then we loop through all those entries and make sure to only keep the ones where the country exists in both data sets. When we filterd out all data we do not want, we simply plot out the results. The first graph includes all data and the second one excludes the entry far right.  "
   ]
  },
  {
   "cell_type": "code",
   "execution_count": 2,
   "id": "polished-madagascar",
   "metadata": {},
   "outputs": [
    {
     "data": {
      "image/png": "[encoded data removed]",
      "text/plain": [
       "<Figure size 432x288 with 1 Axes>"
      ]
     },
     "metadata": {
      "needs_background": "light"
     },
     "output_type": "display_data"
    },
    {
     "data": {
      "image/png": "[encoded data removed]",
      "text/plain": [
       "<Figure size 432x288 with 1 Axes>"
      ]
     },
     "metadata": {
      "needs_background": "light"
     },
     "output_type": "display_data"
    }
   ],
   "source": [
    "x = []\n",
    "y = []\n",
    "\n",
    "df1 = pd.read_csv('../data/GDP-2015.csv')\n",
    "df2 = pd.read_csv('../data/life-expectancy.csv')\n",
    "\n",
    "for index2, row2 in df2.iterrows():\n",
    "    if row2['Year'] == 2015:\n",
    "        for index1, row1 in df1.iterrows():\n",
    "            if row2['Entity'] == row1['Entity']:\n",
    "                x.append(row1['GDP per capita'])\n",
    "                y.append(row2['Life expectancy (years)'])\n",
    "                \n",
    "data = np.column_stack((x, y))\n",
    "\n",
    "plt.scatter(x, y)\n",
    "plt.title('All entires')\n",
    "plt.show()\n",
    "\n",
    "plt.scatter(x, y)\n",
    "plt.title('Odd datapoint excluded')\n",
    "plt.xlim([0, 85000])\n",
    "plt.ylim([50, 85])\n",
    "plt.show()"
   ]
  },
  {
   "cell_type": "markdown",
   "id": "local-emperor",
   "metadata": {},
   "source": [
    "### b.\n",
    "When looking at the result we clearly see that when the GDP per capita goes up, (X axis), the life expectancy generally also goes up. There are some countries with high life expectancy even tho the GDP is low, but not the other way around. There is in our data set only one country that has a low life expectancy while the GDP is relatively high. This one data point is the only thing contradicting the correlation between GDP and life expectancy so we would draw the conclusion that high GDP in fact does contribute to higher life expectancy. The second graph that excludes the entry far to the right simply is a zoomed in version to make the correaltion more visible.\n",
    "\n",
    "This result seems very reasonable since higher life expectancy is what you would think will happen if you have a higher GDP per capita, very resonable."
   ]
  },
  {
   "cell_type": "markdown",
   "id": "personalized-ceiling",
   "metadata": {},
   "source": [
    "### c.\n",
    "No, nothing was removed from the data however we made two plots, where one datapoint is not included in the second one. The reason for this is becuase that datapoint is so extreme compared to the other data, so it is more visually pleasing not not include it and easier see the correlation.   \n",
    "  \n",
    "TODO: Modify after all questions are complete"
   ]
  },
  {
   "cell_type": "markdown",
   "id": "senior-commission",
   "metadata": {},
   "source": [
    "### d.\n",
    "Below is a list with all countries that have life expectancy higher than one standar deviation above the mean."
   ]
  },
  {
   "cell_type": "code",
   "execution_count": 3,
   "id": "addressed-fifty",
   "metadata": {
    "collapsed": false,
    "jupyter": {
     "outputs_hidden": false
    },
    "pycharm": {
     "name": "#%%\n"
    }
   },
   "outputs": [
    {
     "name": "stdout",
     "output_type": "stream",
     "text": [
      "                             0\n",
      "0                      Andorra\n",
      "1                     Anguilla\n",
      "2                    Australia\n",
      "3                      Austria\n",
      "4                      Belgium\n",
      "5                      Bermuda\n",
      "6                       Canada\n",
      "7               Cayman Islands\n",
      "8              Channel Islands\n",
      "9                       Cyprus\n",
      "10                     Denmark\n",
      "11              Faeroe Islands\n",
      "12            Falkland Islands\n",
      "13                     Finland\n",
      "14                      France\n",
      "15                     Germany\n",
      "16                      Greece\n",
      "17                  Guadeloupe\n",
      "18                   Hong Kong\n",
      "19                     Iceland\n",
      "20                     Ireland\n",
      "21                 Isle of Man\n",
      "22                      Israel\n",
      "23                       Italy\n",
      "24                       Japan\n",
      "25               Liechtenstein\n",
      "26                  Luxembourg\n",
      "27                       Macao\n",
      "28                       Malta\n",
      "29                  Martinique\n",
      "30                      Monaco\n",
      "31                 Netherlands\n",
      "32                 New Zealand\n",
      "33                      Norway\n",
      "34                    Portugal\n",
      "35             Saint Barthlemy\n",
      "36                Saint Helena\n",
      "37  Saint Martin (French part)\n",
      "38   Saint Pierre and Miquelon\n",
      "39                  San Marino\n",
      "40                   Singapore\n",
      "41                    Slovenia\n",
      "42                 South Korea\n",
      "43                       Spain\n",
      "44                      Sweden\n",
      "45                 Switzerland\n",
      "46                     Tokelau\n",
      "47              United Kingdom\n"
     ]
    }
   ],
   "source": [
    "countries_LE_above_OneSD = []\n",
    "one_sd_above_mean = (data.mean(axis=0)  + data.std(axis=0))[1]\n",
    "for index, row in df2.iterrows():\n",
    "    if row['Year'] == 2015:\n",
    "        if(row['Life expectancy (years)'] >  one_sd_above_mean):\n",
    "            countries_LE_above_OneSD.append(row['Entity'])\n",
    "dfd = pd.DataFrame(countries_LE_above_OneSD)\n",
    "pd.set_option(\"display.max_rows\", None, \"display.max_columns\", None)\n",
    "print(dfd)"
   ]
  },
  {
   "cell_type": "markdown",
   "id": "threaded-softball",
   "metadata": {},
   "source": [
    "### e.\n",
    "Every country in the top left of the graph, theese countries are also printed in the list below the graph to name some exampels."
   ]
  },
  {
   "cell_type": "code",
   "execution_count": 4,
   "id": "incorrect-specific",
   "metadata": {
    "collapsed": false,
    "jupyter": {
     "outputs_hidden": false
    },
    "pycharm": {
     "name": "#%%\n"
    }
   },
   "outputs": [
    {
     "data": {
      "image/png": "[encoded data removed]",
      "text/plain": [
       "<Figure size 432x288 with 1 Axes>"
      ]
     },
     "metadata": {
      "needs_background": "light"
     },
     "output_type": "display_data"
    },
    {
     "name": "stdout",
     "output_type": "stream",
     "text": [
      "                         0\n",
      "0                  Albania\n",
      "1                  Algeria\n",
      "2                  Armenia\n",
      "3               Azerbaijan\n",
      "4                 Barbados\n",
      "5   Bosnia and Herzegovina\n",
      "6                   Brazil\n",
      "7                 Bulgaria\n",
      "8               Cape Verde\n",
      "9                    China\n",
      "10                Colombia\n",
      "11              Costa Rica\n",
      "12                    Cuba\n",
      "13                Dominica\n",
      "14      Dominican Republic\n",
      "15                 Ecuador\n",
      "16             El Salvador\n",
      "17                 Georgia\n",
      "18               Guatemala\n",
      "19                Honduras\n",
      "20                    Iran\n",
      "21                 Jamaica\n",
      "22                  Jordan\n",
      "23                 Lebanon\n",
      "24                   Libya\n",
      "25               Macedonia\n",
      "26                  Mexico\n",
      "27              Montenegro\n",
      "28                 Morocco\n",
      "29               Nicaragua\n",
      "30               Palestine\n",
      "31                Paraguay\n",
      "32                    Peru\n",
      "33             Saint Lucia\n",
      "34                  Serbia\n",
      "35               Sri Lanka\n",
      "36                Thailand\n",
      "37                 Tunisia\n",
      "38               Venezuela\n",
      "39                 Vietnam\n"
     ]
    }
   ],
   "source": [
    "mean = data.mean(axis=0)\n",
    "countries_lowGDP_highLE = []\n",
    "\n",
    "for index2, row2 in df2.iterrows():\n",
    "    if row2['Year'] == 2015:\n",
    "        for index1, row1 in df1.iterrows():\n",
    "            if row2['Entity'] == row1['Entity']:\n",
    "                if(row1['GDP per capita'] < mean[0]) and row2['Life expectancy (years)'] >  mean[1]:\n",
    "                    countries_lowGDP_highLE.append(row1['Entity'])\n",
    "\n",
    "plt.scatter(x, y)\n",
    "plt.title('Odd datapoint excluded')\n",
    "plt.xlim([0, 85000])\n",
    "plt.ylim([50, 85])\n",
    "plt.show()   \n",
    "                    \n",
    "dfd = pd.DataFrame(countries_lowGDP_highLE)\n",
    "pd.set_option(\"display.max_rows\", None, \"display.max_columns\", None)\n",
    "print(dfd)"
   ]
  },
  {
   "cell_type": "markdown",
   "id": "sexual-fairy",
   "metadata": {},
   "source": [
    "### f.\n",
    "There seems to be an upgoing trend for countries with high GDP, however, there are several countries with quite low life expectancy even though they have quite high GDP. The average life expectancy is 72 years in our data, if you look at the graph below you can see that even ones very far right (High GDP) are below average life expectancy. So it depends on what you classify as low life expectancy, if below average is considerd low there is for sure countries with high GDP and low life expectancy."
   ]
  },
  {
   "cell_type": "code",
   "execution_count": 5,
   "id": "second-thumbnail",
   "metadata": {},
   "outputs": [
    {
     "data": {
      "image/png": "[encoded data removed]",
      "text/plain": [
       "<Figure size 432x288 with 1 Axes>"
      ]
     },
     "metadata": {
      "needs_background": "light"
     },
     "output_type": "display_data"
    }
   ],
   "source": [
    "x1 = []\n",
    "y1 = []\n",
    "\n",
    "df3 = pd.read_csv('../data/national-gdp.csv')\n",
    "\n",
    "for index2, row2 in df2.iterrows():\n",
    "    if row2['Year'] == 2015:\n",
    "        for index3, row3 in df3.iterrows():\n",
    "            if row3['Year'] == 2015 and row3[\"Entity\"] == row2[\"Entity\"]:\n",
    "                x.append(row3[\"Total output-side real GDP at chained PPPs (tot_rgdp_o) (PWT 9.1 (2019))\"])\n",
    "                y.append(row2['Life expectancy (years)'])\n",
    "                \n",
    "data = np.column_stack((x, y))\n",
    "\n",
    "plt.scatter(x, y)\n",
    "plt.title('All entires')\n",
    "plt.xlim([0, 450000000000])\n",
    "plt.ylim([50, 85])\n",
    "plt.show()"
   ]
  },
  {
   "cell_type": "markdown",
   "id": "incomplete-policy",
   "metadata": {},
   "source": [
    "### g.\n",
    "If we would use GDP per capita instead we could use the graph we made earlier in question A. We can see on this graph that every single data point quickly gets above the average life expectancy (72 Years). There is only one exception to this which is Equatorial Guinea, that stands out a lot on the graph being extremely low life expectancy despite having quite high GDP per capita. This is however just one extreme data point and should not be the base of any conclusions, the vast majority of the data suggests that high GDP per capita actually seem to imply that the life expectancy is not low in that specific country.    \n",
    "\n",
    "This means that GDP per capita seems to be a better indicator than just GDP if you want to see a correalation between GDP and life expectancy. This is quite reasonable too since the GDP of a country says nothing about what the majority of peoples living standards are. You need to relate the GDP to the population to get any info about how the living standards could be."
   ]
  },
  {
   "cell_type": "code",
   "execution_count": 6,
   "id": "honey-tactics",
   "metadata": {},
   "outputs": [
    {
     "data": {
      "image/png": "[encoded data removed]",
      "text/plain": [
       "<Figure size 432x288 with 1 Axes>"
      ]
     },
     "metadata": {
      "needs_background": "light"
     },
     "output_type": "display_data"
    }
   ],
   "source": [
    "plt.scatter(x, y)\n",
    "plt.title('Odd datapoint excluded')\n",
    "plt.xlim([0, 85000])\n",
    "plt.ylim([50, 85])\n",
    "plt.show()"
   ]
  },
  {
   "cell_type": "markdown",
   "id": "italic-meaning",
   "metadata": {},
   "source": [
    "## 2.\n",
    "\n",
    "### a.\n"
   ]
  },
  {
   "cell_type": "markdown",
   "id": "overall-insert",
   "metadata": {},
   "source": [
    "### b.\n"
   ]
  }
 ],
 "metadata": {
  "kernelspec": {
   "display_name": "Python 3",
   "language": "python",
   "name": "python3"
  },
  "language_info": {
   "codemirror_mode": {
    "name": "ipython",
    "version": 3
   },
   "file_extension": ".py",
   "mimetype": "text/x-python",
   "name": "python",
   "nbconvert_exporter": "python",
   "pygments_lexer": "ipython3",
   "version": "3.8.5"
  }
 },
 "nbformat": 4,
 "nbformat_minor": 5
}
