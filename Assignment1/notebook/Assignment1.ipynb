{
 "cells": [
  {
   "cell_type": "markdown",
   "id": "isolated-death",
   "metadata": {},
   "source": [
    "# Assignment 1: Introduction to Data Science and Python\n"
   ]
  },
  {
   "cell_type": "code",
   "execution_count": 1,
   "id": "bright-album",
   "metadata": {},
   "outputs": [],
   "source": [
    "import matplotlib.pyplot as plt\n",
    "import numpy as np\n",
    "import pandas as pd\n",
    "import matplotlib.colors as colors"
   ]
  },
  {
   "cell_type": "markdown",
   "id": "thermal-prerequisite",
   "metadata": {},
   "source": [
    "## Contributors:\n",
    "### Lukas Andersson - X Hours\n",
    "###"
   ]
  },
  {
   "cell_type": "markdown",
   "id": "beautiful-guess",
   "metadata": {},
   "source": [
    "## 1.\n",
    "\n",
    "### a.\n",
    "In this first assignment we manipulate given data to later print it out as a scatter plot. By looking at the data you quickly realize that the life expectancy data have way more entires than the given GDP data. This has two reasons, firstly because every country has data from several years, not just 2015, in the life expectancy table. And secondly because they do not have the same set of countries to begin with. To solve this we first remove every single entry that does not have data from the year of 2015, since thats the only data we have on GDP. Then we loop through all those entries and make sure to only keep the ones where the country exists in both data sets. When we filterd out all data we do not want, we simply plot out the results. The first graph includes all data and the second one excludes the entry far right.  "
   ]
  },
  {
   "cell_type": "code",
   "execution_count": 2,
   "id": "pressing-beads",
   "metadata": {},
   "outputs": [
    {
     "data": {
      "image/png": "[encoded data removed]",
      "text/plain": [
       "<Figure size 432x288 with 1 Axes>"
      ]
     },
     "metadata": {
      "needs_background": "light"
     },
     "output_type": "display_data"
    },
    {
     "data": {
      "image/png": "[encoded data removed]",
      "text/plain": [
       "<Figure size 432x288 with 1 Axes>"
      ]
     },
     "metadata": {
      "needs_background": "light"
     },
     "output_type": "display_data"
    }
   ],
   "source": [
    "x = []\n",
    "y = []\n",
    "\n",
    "df1 = pd.read_csv('../data/GDP-2015.csv')\n",
    "df2 = pd.read_csv('../data/life-expectancy.csv')\n",
    "\n",
    "for index2, row2 in df2.iterrows():\n",
    "    if row2['Year'] == 2015:\n",
    "        for index1, row1 in df1.iterrows():\n",
    "            if row2['Entity'] == row1['Entity']:\n",
    "                x.append(row1['GDP per capita'])\n",
    "                y.append(row2['Life expectancy (years)'])\n",
    "\n",
    "plt.scatter(x, y)\n",
    "plt.title('All entires')\n",
    "plt.xlabel(\"GDP per capita\")\n",
    "plt.ylabel(\"Life Expectancy\")\n",
    "plt.show()\n",
    "\n",
    "plt.scatter(x, y)\n",
    "plt.title('Odd datapoint excluded')\n",
    "plt.xlim([0, 85000])\n",
    "plt.ylim([50, 85])\n",
    "plt.xlabel(\"GDP per capita\")\n",
    "plt.ylabel(\"Life Expectancy\")\n",
    "plt.show()"
   ]
  },
  {
   "cell_type": "markdown",
   "id": "extensive-python",
   "metadata": {},
   "source": [
    "### b.\n",
    "When looking at the result we clearly see that when the GDP per capita goes up, (X axis), the life expectancy generally also goes up. There are some countries with high life expectancy even tho the GDP is low, but not the other way around. There is in our data set only one country that has a low life expectancy while the GDP is relatively high. This one data point is the only thing contradicting the correlation between GDP and life expectancy so we would draw the conclusion that high GDP in fact does contribute to higher life expectancy. The second graph that excludes the entry far to the right simply is a zoomed in version to make the correaltion more visible.\n",
    "\n",
    "This result seems very reasonable since higher life expectancy is what you would think will happen if you have a higher GDP per capita, very resonable."
   ]
  },
  {
   "cell_type": "markdown",
   "id": "recorded-rocket",
   "metadata": {},
   "source": [
    "### c.\n",
    "No, nothing was removed from the data however we made two plots, where one datapoint is not included in the second one. The reason for this is becuase that datapoint is so extreme compared to the other data, so it is more visually pleasing not not include it and easier see the correlation."
   ]
  },
  {
   "cell_type": "markdown",
   "id": "least-organizer",
   "metadata": {},
   "source": [
    "### d.\n",
    "Below is a list with all countries that have life expectancy higher than one standar deviation above the mean."
   ]
  },
  {
   "cell_type": "code",
   "execution_count": 3,
   "id": "exempt-contribution",
   "metadata": {
    "collapsed": false,
    "jupyter": {
     "outputs_hidden": false
    },
    "pycharm": {
     "name": "#%%\n"
    }
   },
   "outputs": [
    {
     "name": "stdout",
     "output_type": "stream",
     "text": [
      "                             0\n",
      "0                      Andorra\n",
      "1                     Anguilla\n",
      "2                    Australia\n",
      "3                      Austria\n",
      "4                      Belgium\n",
      "5                      Bermuda\n",
      "6                       Canada\n",
      "7               Cayman Islands\n",
      "8              Channel Islands\n",
      "9                       Cyprus\n",
      "10                     Denmark\n",
      "11              Faeroe Islands\n",
      "12            Falkland Islands\n",
      "13                     Finland\n",
      "14                      France\n",
      "15                     Germany\n",
      "16                      Greece\n",
      "17                  Guadeloupe\n",
      "18                   Hong Kong\n",
      "19                     Iceland\n",
      "20                     Ireland\n",
      "21                 Isle of Man\n",
      "22                      Israel\n",
      "23                       Italy\n",
      "24                       Japan\n",
      "25               Liechtenstein\n",
      "26                  Luxembourg\n",
      "27                       Macao\n",
      "28                       Malta\n",
      "29                  Martinique\n",
      "30                      Monaco\n",
      "31                 Netherlands\n",
      "32                 New Zealand\n",
      "33                      Norway\n",
      "34                    Portugal\n",
      "35             Saint Barthlemy\n",
      "36                Saint Helena\n",
      "37  Saint Martin (French part)\n",
      "38   Saint Pierre and Miquelon\n",
      "39                  San Marino\n",
      "40                   Singapore\n",
      "41                    Slovenia\n",
      "42                 South Korea\n",
      "43                       Spain\n",
      "44                      Sweden\n",
      "45                 Switzerland\n",
      "46                     Tokelau\n",
      "47              United Kingdom\n"
     ]
    }
   ],
   "source": [
    "countries_LE_above_OneSD = []\n",
    "\n",
    "data = np.column_stack((x, y))\n",
    "\n",
    "one_sd_above_mean = (data.mean(axis=0)  + data.std(axis=0))[1]\n",
    "for index, row in df2.iterrows():\n",
    "    if row['Year'] == 2015:\n",
    "        if(row['Life expectancy (years)'] >  one_sd_above_mean):\n",
    "            countries_LE_above_OneSD.append(row['Entity'])\n",
    "dfd = pd.DataFrame(countries_LE_above_OneSD)\n",
    "pd.set_option(\"display.max_rows\", None, \"display.max_columns\", None)\n",
    "print(dfd)"
   ]
  },
  {
   "cell_type": "markdown",
   "id": "previous-uruguay",
   "metadata": {},
   "source": [
    "### e.\n",
    "Every country in the top left of the graph, theese countries are also printed in the list below the graph to name some exampels."
   ]
  },
  {
   "cell_type": "code",
   "execution_count": 4,
   "id": "sustained-sleeping",
   "metadata": {
    "collapsed": false,
    "jupyter": {
     "outputs_hidden": false
    },
    "pycharm": {
     "name": "#%%\n"
    }
   },
   "outputs": [
    {
     "data": {
      "image/png": "[encoded data removed]",
      "text/plain": [
       "<Figure size 432x288 with 1 Axes>"
      ]
     },
     "metadata": {
      "needs_background": "light"
     },
     "output_type": "display_data"
    },
    {
     "name": "stdout",
     "output_type": "stream",
     "text": [
      "                         0\n",
      "0                  Albania\n",
      "1                  Algeria\n",
      "2                  Armenia\n",
      "3               Azerbaijan\n",
      "4                 Barbados\n",
      "5   Bosnia and Herzegovina\n",
      "6                   Brazil\n",
      "7                 Bulgaria\n",
      "8               Cape Verde\n",
      "9                    China\n",
      "10                Colombia\n",
      "11              Costa Rica\n",
      "12                    Cuba\n",
      "13                Dominica\n",
      "14      Dominican Republic\n",
      "15                 Ecuador\n",
      "16             El Salvador\n",
      "17                 Georgia\n",
      "18               Guatemala\n",
      "19                Honduras\n",
      "20                    Iran\n",
      "21                 Jamaica\n",
      "22                  Jordan\n",
      "23                 Lebanon\n",
      "24                   Libya\n",
      "25               Macedonia\n",
      "26                  Mexico\n",
      "27              Montenegro\n",
      "28                 Morocco\n",
      "29               Nicaragua\n",
      "30               Palestine\n",
      "31                Paraguay\n",
      "32                    Peru\n",
      "33             Saint Lucia\n",
      "34                  Serbia\n",
      "35               Sri Lanka\n",
      "36                Thailand\n",
      "37                 Tunisia\n",
      "38               Venezuela\n",
      "39                 Vietnam\n"
     ]
    }
   ],
   "source": [
    "mean = data.mean(axis=0)\n",
    "countries_lowGDP_highLE = []\n",
    "\n",
    "for index2, row2 in df2.iterrows():\n",
    "    if row2['Year'] == 2015:\n",
    "        for index1, row1 in df1.iterrows():\n",
    "            if row2['Entity'] == row1['Entity']:\n",
    "                if(row1['GDP per capita'] < mean[0]) and row2['Life expectancy (years)'] >  mean[1]:\n",
    "                    countries_lowGDP_highLE.append(row1['Entity'])\n",
    "\n",
    "plt.scatter(x, y)\n",
    "plt.title('Odd datapoint excluded')\n",
    "plt.xlim([0, 85000])\n",
    "plt.ylim([50, 85])\n",
    "plt.xlabel(\"GDP per capita\")\n",
    "plt.ylabel(\"Life Expectancy\")\n",
    "plt.show()   \n",
    "                    \n",
    "dfd = pd.DataFrame(countries_lowGDP_highLE)\n",
    "pd.set_option(\"display.max_rows\", None, \"display.max_columns\", None)\n",
    "print(dfd)"
   ]
  },
  {
   "cell_type": "markdown",
   "id": "internal-peter",
   "metadata": {},
   "source": [
    "### f.\n",
    "There seems to be an upgoing trend for countries with high GDP, however, there are several countries with quite low life expectancy even though they have quite high GDP. The average life expectancy is 72 years in our data, if you look at the graph below you can see that even ones very far right (High GDP) are below average life expectancy. So it depends on what you classify as low life expectancy, if below average is considerd low there is for sure countries with high GDP and low life expectancy."
   ]
  },
  {
   "cell_type": "code",
   "execution_count": 5,
   "id": "noticed-theme",
   "metadata": {},
   "outputs": [
    {
     "data": {
      "image/png": "[encoded data removed]",
      "text/plain": [
       "<Figure size 432x288 with 1 Axes>"
      ]
     },
     "metadata": {
      "needs_background": "light"
     },
     "output_type": "display_data"
    }
   ],
   "source": [
    "x1 = []\n",
    "y1 = []\n",
    "\n",
    "df3 = pd.read_csv('../data/national-gdp.csv')\n",
    "\n",
    "for index2, row2 in df2.iterrows():\n",
    "    if row2['Year'] == 2015:\n",
    "        for index3, row3 in df3.iterrows():\n",
    "            if row3['Year'] == 2015 and row3[\"Entity\"] == row2[\"Entity\"]:\n",
    "                x1.append(row3[\"Total output-side real GDP at chained PPPs (tot_rgdp_o) (PWT 9.1 (2019))\"])\n",
    "                y1.append(row2['Life expectancy (years)'])\n",
    "                \n",
    "plt.scatter(x1, y1)\n",
    "plt.title('All entires')\n",
    "plt.xlim([0, 450000000000])\n",
    "plt.ylim([50, 85])\n",
    "plt.xlabel(\"GDP per capita\")\n",
    "plt.ylabel(\"Life Expectancy\")\n",
    "plt.show()"
   ]
  },
  {
   "cell_type": "markdown",
   "id": "growing-functionality",
   "metadata": {},
   "source": [
    "### g.\n",
    "If we would use GDP per capita instead we could use the graph we made earlier in question A. We can see on this graph that every single data point quickly gets above the average life expectancy (72 Years). There is only one exception to this which is Equatorial Guinea, that stands out a lot on the graph being extremely low life expectancy despite having quite high GDP per capita. This is however just one extreme data point and should not be the base of any conclusions, the vast majority of the data suggests that high GDP per capita actually seem to imply that the life expectancy is not low in that specific country.    \n",
    "\n",
    "This means that GDP per capita seems to be a better indicator than just GDP if you want to see a correalation between GDP and life expectancy. This is quite reasonable too since the GDP of a country says nothing about what the majority of peoples living standards are. You need to relate the GDP to the population to get any info about how the living standards could be."
   ]
  },
  {
   "cell_type": "code",
   "execution_count": 6,
   "id": "hybrid-hammer",
   "metadata": {},
   "outputs": [
    {
     "data": {
      "image/png": "[encoded data removed]",
      "text/plain": [
       "<Figure size 432x288 with 1 Axes>"
      ]
     },
     "metadata": {
      "needs_background": "light"
     },
     "output_type": "display_data"
    }
   ],
   "source": [
    "plt.scatter(x, y)\n",
    "plt.title('Odd datapoint excluded')\n",
    "plt.xlim([0, 85000])\n",
    "plt.ylim([50, 85])\n",
    "plt.xlabel(\"GDP per capita\")\n",
    "plt.ylabel(\"Life Expectancy\")\n",
    "plt.show()"
   ]
  },
  {
   "cell_type": "markdown",
   "id": "decreased-excellence",
   "metadata": {
    "pycharm": {
     "name": "#%% md\n"
    }
   },
   "source": [
    "## 2.\n",
    "We have chosen two datasets for this analysis. One being a survey based on the share of people who say they are happy\n",
    "across the world recorded and percentage of unemployment across the world recorded overtime. The happiness percentages were recorded\n",
    "from different years in different countries. We have hence chosen to pick data from 2004 to 2014 to make a fair analysis."
   ]
  },
  {
   "cell_type": "markdown",
   "id": "agreed-labor",
   "metadata": {},
   "source": [
    "### a.\n",
    "COMMENT : Use different graphs like Violin or heat Map or bar graph\n",
    "\n",
    "\n",
    "\n",
    "\n",
    "Visualisation of unemployement over years.\n",
    "\n",
    "Visualisation of happiness over years.\n",
    "\n",
    "We first analyse the data to see the correlation between percentages of unemployment and happiness.\n",
    "\n",
    "** THE ANALYSIS HERE **\n",
    "\n",
    "We then analyse if the reduced percentages of happiness is caused by increased rate of unemployment or\n",
    "or vice versa\n",
    "\n",
    "\n",
    "COMMENT : This involves constructing a hypothesis, conducting an experiment and then derive results.\n",
    "Dont know if we would want to do that.\n",
    "\n",
    "\n",
    "Are there countries having low unemployment rate and low happiness rates?\n",
    "\n",
    "Are there countries having high unemployment rate and high happiness rates?\n",
    "\n",
    "Global trends or national trends  \n",
    "\n",
    "COMMENT: Below are some visuals, first row is unemployment 2004 and 2014. Second row is happiness 2004 and 2014. Third is the change in unemployment from 2004 to 2014 and fourth is the change in hapiness from 2004 to 2014. 5th&6th is them relative to eachother where the x axis is happiness and the y axis is unemploymentrate.  \n",
    "  \n",
    "With the data we have chosen there are several questions we would like answer. First of all we want to see how the trends are going globally, Is unemployment increasing or decreasing on a global scale? What about happiness? Is the trends looking similar at all between the two?. We also want to compare them to eachother to find out if there is any condition in one of the data sets that implies another condition. For example that would be if low employment implies that the country always is happy according to our data. Of course there are a lot of factors that needs to be considerd and you can't really draw any conclusions from it but that could mean that unemployment rates have impact on happiness.  \n",
    "  \n",
    "Below are some graphs to now analyze the data. First we take a look at unemployment, on the first row there are two graphs showing the unemployment rates in 2004 and 2014, then right below there is a graph showing the change between the two. We then do the exact same thing for happiness to be able to see the data and the difference between the years. After that we have two scatter plots showing countries plotted with happiness rates on the x-axis and unemployment rates on the y-axis. This is to see the correlation, the first scatter plot shows 2004 and the second shows 2014. Lastly we have another graph that looks at one specific over the years with data from both sets, weGermanyGermany"
   ]
  },
  {
   "cell_type": "code",
   "execution_count": null,
   "id": "trying-parcel",
   "metadata": {},
   "outputs": [],
   "source": [
    "histdata_unemployment = [[], [], []]\n",
    "histdata_happiness = [[], [], []]\n",
    "relative_data = [[[], []], [[], []]]\n",
    "\n",
    "df4 = pd.read_csv('../data/share-of-people-who-say-they-are-happy-Eurobarometer.csv')\n",
    "df5 = pd.read_csv('../data/unemployment-rate.csv')\n",
    "\n",
    "for index5, row5 in df5.iterrows():\n",
    "    if row5['Year'] == 2004:\n",
    "        for index5i, row5i in df5.iterrows():\n",
    "            if row5['Entity'] == row5i['Entity'] and row5i['Year'] == 2014:\n",
    "                histdata_unemployment[0].append(row5['Unemployment, total (% of total labor force) (modeled ILO estimate)'])\n",
    "                histdata_unemployment[1].append(row5i['Unemployment, total (% of total labor force) (modeled ILO estimate)'])\n",
    "                histdata_unemployment[2].append(row5i['Unemployment, total (% of total labor force) (modeled ILO estimate)'] - row5['Unemployment, total (% of total labor force) (modeled ILO estimate)'])\n",
    "                \n",
    "for index4, row4 in df4.iterrows():\n",
    "    if row4['Year'] == 2004:\n",
    "        for index4i, row4i in df4.iterrows():\n",
    "            if row4['Entity'] == row4i['Entity'] and row4i['Year'] == 2014:\n",
    "                histdata_happiness[0].append(row4['Share of people who are happy (Eurobarometer 2017)'])\n",
    "                histdata_happiness[1].append(row4i['Share of people who are happy (Eurobarometer 2017)'])\n",
    "                histdata_happiness[2].append(row4i['Share of people who are happy (Eurobarometer 2017)'] - row4['Share of people who are happy (Eurobarometer 2017)'])\n",
    "                \n",
    "for index4, row4 in df4.iterrows():\n",
    "    if row4['Year'] == 2004:\n",
    "        for index5, row5 in df5.iterrows():\n",
    "            if row4['Entity'] == row5['Entity'] and row5['Year'] == 2004:\n",
    "                relative_data[0][0].append(row4['Share of people who are happy (Eurobarometer 2017)'])\n",
    "                relative_data[0][1].append(row5['Unemployment, total (% of total labor force) (modeled ILO estimate)'])\n",
    "                \n",
    "    elif row4['Year'] == 2014:\n",
    "        for index5, row5 in df5.iterrows():\n",
    "            if row4['Entity'] == row5['Entity'] and row5['Year'] == 2014:    \n",
    "                relative_data[1][0].append(row4['Share of people who are happy (Eurobarometer 2017)'])\n",
    "                relative_data[1][1].append(row5['Unemployment, total (% of total labor force) (modeled ILO estimate)'])\n",
    "                      \n",
    "relative2004 = np.column_stack((relative_data[0][0], relative_data[0][1]))\n",
    "relative2014 = np.column_stack((relative_data[1][0], relative_data[1][1]))\n",
    "\n",
    "fig, axs = plt.subplots(1, 2)\n",
    "axs[0].hist(histdata_unemployment[0])\n",
    "axs[1].hist(histdata_unemployment[1])\n",
    "plt.setp(axs, xlim=(0, 50), ylim=(0, 100))\n",
    "plt.show()\n",
    "\n",
    "plt.hist(histdata_unemployment[2])\n",
    "plt.ylabel('Entries')\n",
    "plt.xlabel('Change from 2004 to 2014')\n",
    "plt.show()\n",
    "\n",
    "fig, axs = plt.subplots(1, 2)\n",
    "axs[0].hist(histdata_happiness[0])\n",
    "axs[1].hist(histdata_happiness[1])\n",
    "plt.setp(axs, xlim=(0, 100), ylim=(0, 10))\n",
    "plt.show()\n",
    "\n",
    "plt.hist(histdata_happiness[2])\n",
    "plt.ylabel('Entries')\n",
    "plt.xlabel('Change from 2004 to 2014')\n",
    "plt.show()\n",
    "\n",
    "plt.scatter(relative_data[0][0], relative_data[0][1])\n",
    "plt.ylabel('Rate of Unemployment')\n",
    "plt.xlabel('Rate of Hapiness')\n",
    "plt.show()\n",
    "\n",
    "plt.scatter(relative_data[1][0], relative_data[1][1])\n",
    "plt.ylabel('Rate of Unemployment')\n",
    "plt.xlabel('Rate of Hapiness')\n",
    "plt.show()\n",
    "\n"
   ]
  },
  {
   "cell_type": "code",
   "execution_count": 35,
   "id": "entertaining-guitar",
   "metadata": {},
   "outputs": [
    {
     "data": {
      "image/png": "[encoded data removed]",
      "text/plain": [
       "<Figure size 432x288 with 1 Axes>"
      ]
     },
     "metadata": {
      "needs_background": "light"
     },
     "output_type": "display_data"
    }
   ],
   "source": [
    "years = []\n",
    "norm = colors.Normalize(0,20)\n",
    "for n in range(2004,2015):\n",
    "    years.append(n)\n",
    "\n",
    "unemployment_rates = []\n",
    "happiness_rates = []\n",
    "\n",
    "\n",
    "for index6i in years:\n",
    "    for index6, row6 in df5.iterrows():\n",
    "        if  row6['Year'] == index6i and row6['Entity'] == \"Germany\":\n",
    "               unemployment_rates.append(row6['Unemployment, total (% of total labor force) (modeled ILO estimate)'])\n",
    "\n",
    "for index7i in years:\n",
    "    for index7, row7 in df4.iterrows():\n",
    "        if  row7['Year'] == index7i and row7['Entity'] == \"Germany\":\n",
    "               happiness_rates.append(1.25 * norm(row7['Share of people who are happy (Eurobarometer 2017)']))\n",
    "\n",
    "\n",
    "m = np.arange(len(years))  # the label locations\n",
    "width = 0.40  # the width of the bars\n",
    "\n",
    "fig, ax = plt.subplots()\n",
    "rects1 = ax.bar(m - width/2, unemployment_rates, width, label='Unemployment')\n",
    "rects2 = ax.bar(m + width/2, happiness_rates, width, label='Happiness')\n",
    "ax.set_ylim([3.5,15])\n",
    "# Add some text for labels, title and custom x-axis tick labels, etc.\n",
    "ax.set_ylabel('Rates of unemployment')\n",
    "ax.set_title('Rates of unemployement and happiness for Germany from 2004 to 2014')\n",
    "ax.set_xticks(m)\n",
    "ax.set_xticklabels(years)\n",
    "ax.legend()\n",
    "\n",
    "\n",
    "\n",
    "fig.tight_layout()\n",
    "\n",
    "plt.show()"
   ]
  },
  {
   "cell_type": "markdown",
   "id": "patent-progressive",
   "metadata": {},
   "source": [
    "### b.\n",
    "\n",
    "##### Conclusions derived from raw data :\n",
    "TODO : The below points need to be justified or derived a conclusion from.\n",
    "- The values of unemployement and share of people who are happy are represented in percentages.\n",
    "- The happiness percentages were recorded from different years in different countries\n",
    "- The recorded happiness percentages differ to a great amount in certain countries from one year to the next.\n",
    "\n",
    "From the correlation scatter plots we see that there seems to be no correlation between the unemployment and"
   ]
  },
  {
   "cell_type": "markdown",
   "id": "helpful-pearl",
   "metadata": {},
   "source": [
    "COMMENT : A graph to represent the unemployment rate and happiness rate of one particular country"
   ]
  },
  {
   "cell_type": "markdown",
   "id": "physical-questionnaire",
   "metadata": {},
   "source": []
  }
 ],
 "metadata": {
  "kernelspec": {
   "display_name": "Python 3",
   "language": "python",
   "name": "python3"
  },
  "language_info": {
   "codemirror_mode": {
    "name": "ipython",
    "version": 3
   },
   "file_extension": ".py",
   "mimetype": "text/x-python",
   "name": "python",
   "nbconvert_exporter": "python",
   "pygments_lexer": "ipython3",
   "version": "3.8.5"
  }
 },
 "nbformat": 4,
 "nbformat_minor": 5
}
