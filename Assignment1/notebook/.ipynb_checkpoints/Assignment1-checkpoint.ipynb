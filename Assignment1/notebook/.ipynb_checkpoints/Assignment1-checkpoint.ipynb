{
 "cells": [
  {
   "cell_type": "markdown",
   "id": "abandoned-nicholas",
   "metadata": {},
   "source": [
    "# Assignment 1: Introduction to Data Science and Python\n"
   ]
  },
  {
   "cell_type": "code",
   "execution_count": 43,
   "id": "responsible-isolation",
   "metadata": {},
   "outputs": [],
   "source": [
    "import matplotlib.pyplot as plt\n",
    "import numpy as np\n",
    "import pandas as pd\n",
    "from sklearn import datasets"
   ]
  },
  {
   "cell_type": "markdown",
   "id": "black-model",
   "metadata": {},
   "source": [
    "## Contributors:\n",
    "### Lukas Andersson - X Hours\n",
    "###"
   ]
  },
  {
   "cell_type": "markdown",
   "id": "christian-consent",
   "metadata": {},
   "source": [
    "## 1.\n",
    "\n",
    "### a.\n",
    "In this first assignment we manipulate given data to later print it out as a scatter plot. By looking at the data you quickly realize that the life expectancy data have way more entires than the given GDP data. This has two reasons, firstly because every country has data from several years, not just 2015, in the life expectancy table. And secondly because they do not have the same set of countries to begin with. To solve this we first remove every single entry that does not have data from the year of 2015, since thats the only data we have on GDP. Then we loop through all those entries and make sure to only keep the ones where the country exists in both data sets. When we filterd out all data we do not want, we simply plot out the results. The first graph includes all data and the second one excludes the entry far right.  "
   ]
  },
  {
   "cell_type": "code",
   "execution_count": 42,
   "id": "functioning-cholesterol",
   "metadata": {},
   "outputs": [
    {
     "data": {
      "image/png": "[encoded data removed]",
      "text/plain": [
       "<Figure size 432x288 with 1 Axes>"
      ]
     },
     "metadata": {
      "needs_background": "light"
     },
     "output_type": "display_data"
    },
    {
     "data": {
      "image/png": "[encoded data removed]",
      "text/plain": [
       "<Figure size 432x288 with 1 Axes>"
      ]
     },
     "metadata": {
      "needs_background": "light"
     },
     "output_type": "display_data"
    }
   ],
   "source": [
    "x = []\n",
    "y = []\n",
    "\n",
    "df1 = pd.read_csv('../data/GDP-2015.csv')\n",
    "df2 = pd.read_csv('../data/life-expectancy.csv')\n",
    "\n",
    "for index2, row2 in df2.iterrows():\n",
    "    if row2['Year'] == 2015:\n",
    "        for index1, row1 in df1.iterrows():\n",
    "            if row2['Entity'] == row1['Entity']:\n",
    "                x.append(row1['GDP per capita'])\n",
    "                y.append(row2['Life expectancy (years)'])\n",
    "                \n",
    "data = np.column_stack((x, y))\n",
    "\n",
    "plt.scatter(x, y)\n",
    "plt.title('All entires')\n",
    "plt.show()\n",
    "\n",
    "plt.scatter(x, y)\n",
    "plt.title('Odd datapoint excluded')\n",
    "plt.xlim([0, 85000])\n",
    "plt.ylim([50, 85])\n",
    "plt.show()"
   ]
  },
  {
   "cell_type": "markdown",
   "id": "undefined-promise",
   "metadata": {},
   "source": [
    "### b.\n",
    "When looking at the result we clearly see that when the GDP per capita goes up, (X axis), the life expectancy generally also goes up. There are some countries with high life expectancy even tho the GDP is low, but not the other way around. There is in our data set only one country that has a low life expectancy while the GDP is relatively high. This one data point is the only thing contradicting the correlation between GDP and life expectancy so we would draw the conclusion that high GDP in fact does contribute to higher life expectancy. The second graph that excludes the entry far to the right simply is a zoomed in version to make the correaltion more visible.\n",
    "\n",
    "This result seems very reasonable since higher life expectancy is what you would think will happen if you have a higher GDP per capita, very resonable."
   ]
  },
  {
   "cell_type": "markdown",
   "id": "thermal-label",
   "metadata": {},
   "source": [
    "### c.\n",
    "No, nothing was removed from the data however we made two plots, where one datapoint is not included in the second one. The reason for this is becuase that datapoint is so extreme compared to the other data, so it is more visually pleasing not not include it and easier see the correlation. "
   ]
  },
  {
   "cell_type": "markdown",
   "id": "choice-emperor",
   "metadata": {},
   "source": [
    "### d.\n",
    "Below is a list with all countries that have life expectancy higher than one standar deviation above the mean."
   ]
  },
  {
   "cell_type": "code",
   "execution_count": 26,
   "id": "opposite-oasis",
   "metadata": {
    "collapsed": false,
    "jupyter": {
     "outputs_hidden": false
    },
    "pycharm": {
     "name": "#%%\n"
    }
   },
   "outputs": [
    {
     "name": "stdout",
     "output_type": "stream",
     "text": [
      "                             0\n",
      "0                      Andorra\n",
      "1                     Anguilla\n",
      "2                    Australia\n",
      "3                      Austria\n",
      "4                      Belgium\n",
      "5                      Bermuda\n",
      "6                       Canada\n",
      "7               Cayman Islands\n",
      "8              Channel Islands\n",
      "9                       Cyprus\n",
      "10                     Denmark\n",
      "11              Faeroe Islands\n",
      "12            Falkland Islands\n",
      "13                     Finland\n",
      "14                      France\n",
      "15                     Germany\n",
      "16                      Greece\n",
      "17                  Guadeloupe\n",
      "18                   Hong Kong\n",
      "19                     Iceland\n",
      "20                     Ireland\n",
      "21                 Isle of Man\n",
      "22                      Israel\n",
      "23                       Italy\n",
      "24                       Japan\n",
      "25               Liechtenstein\n",
      "26                  Luxembourg\n",
      "27                       Macao\n",
      "28                       Malta\n",
      "29                  Martinique\n",
      "30                      Monaco\n",
      "31                 Netherlands\n",
      "32                 New Zealand\n",
      "33                      Norway\n",
      "34                    Portugal\n",
      "35             Saint Barthlemy\n",
      "36                Saint Helena\n",
      "37  Saint Martin (French part)\n",
      "38   Saint Pierre and Miquelon\n",
      "39                  San Marino\n",
      "40                   Singapore\n",
      "41                    Slovenia\n",
      "42                 South Korea\n",
      "43                       Spain\n",
      "44                      Sweden\n",
      "45                 Switzerland\n",
      "46                     Tokelau\n",
      "47              United Kingdom\n"
     ]
    }
   ],
   "source": [
    "countries_LE_above_OneSD = []\n",
    "one_sd_above_mean = (data.mean(axis=0)  + data.std(axis=0))[1]\n",
    "for index, row in df2.iterrows():\n",
    "    if row['Year'] == 2015:\n",
    "        if(row['Life expectancy (years)'] >  one_sd_above_mean):\n",
    "            countries_LE_above_OneSD.append(row['Entity'])\n",
    "dfd = pd.DataFrame(countries_LE_above_OneSD)\n",
    "pd.set_option(\"display.max_rows\", None, \"display.max_columns\", None)\n",
    "print(dfd)"
   ]
  },
  {
   "cell_type": "markdown",
   "id": "hearing-cooling",
   "metadata": {},
   "source": [
    "### e.\n",
    "Every country in the top left of the graph \n",
    "TODO: Not sure if we should include actual examples or not\n",
    "COMMENT: We might have to display the countries that have GDP below mean and life expectency above mean. OR do we take 1 or 2 SDs above mean?\n",
    "COMMENT: I think it wouldbe better with 1 SDs from the mean"
   ]
  },
  {
   "cell_type": "code",
   "execution_count": 37,
   "id": "seeing-cardiff",
   "metadata": {
    "collapsed": false,
    "jupyter": {
     "outputs_hidden": false
    },
    "pycharm": {
     "name": "#%%\n"
    }
   },
   "outputs": [
    {
     "name": "stdout",
     "output_type": "stream",
     "text": [
      "[18149.46385542    71.88696386]\n",
      "[1.92858609e+04 8.09931909e+00]\n",
      "-1136.3970231340536\n",
      "79.98628294095576\n",
      "{'Qatar'}\n"
     ]
    }
   ],
   "source": [
    "countries_lowGDP_highLE = set()\n",
    "print(data.mean(axis=0))\n",
    "print(data.std(axis=0))\n",
    "GDP_below_mean = (data.mean(axis=0)[0] - data.std(axis=0)[0])\n",
    "LE_above_mean = (data.mean(axis=0) + data.std(axis=0))[1]\n",
    "print(GDP_below_mean)\n",
    "print(LE_above_mean)\n",
    "for index2, row2 in df2.iterrows():\n",
    "    if row2['Year'] == 2015:\n",
    "        for index1, row1 in df1.iterrows():\n",
    "            if row1['GDP per capita'] > 100000:\n",
    "                countries_lowGDP_highLE.add(row1['Entity'])\n",
    "\n",
    "print(countries_lowGDP_highLE)"
   ]
  },
  {
   "cell_type": "markdown",
   "id": "incorrect-fifteen",
   "metadata": {},
   "source": [
    "### f.\n",
    "TODO: Not sure what the question is after, if it just wants o know if any of our data has high GDP per capita but low life expectancy there is one country, Equatorial guinea which stands out a lot on the graph\n",
    "COMMENT: same as previous question mean plus SD or just mean? The above mentioned country is very well evident and can be mentioned\n",
    "COMMENT: They are after the GDP and not GDP per capita here, we need to convert it somehow. I tried doing it with a seprate population table but got way too complex and had long runtime."
   ]
  },
  {
   "cell_type": "code",
   "execution_count": 34,
   "id": "classified-mailman",
   "metadata": {
    "collapsed": false,
    "jupyter": {
     "outputs_hidden": false
    },
    "pycharm": {
     "name": "#%%\n"
    }
   },
   "outputs": [
    {
     "name": "stdout",
     "output_type": "stream",
     "text": [
      "{'Azerbaijan', 'Dominica', 'Congo', 'Yemen', 'Russia', 'Uzbekistan', 'Cape Verde', 'Cambodia', 'North Korea', 'Spain', 'Uganda', 'Niger', 'Belarus', 'Argentina', 'Malaysia', 'Mauritius', 'Cuba', 'Jamaica', 'Democratic Republic of Congo', 'Namibia', 'Saint Lucia', 'Canada', 'Burkina Faso', 'Algeria', 'Brazil', 'Rwanda', 'Denmark', 'Chad', 'New Zealand', 'Lithuania', 'Guinea-Bissau', 'Hungary', 'Cyprus', 'Portugal', 'Ukraine', 'Italy', 'Croatia', 'Panama', 'Bulgaria', 'Nepal', 'Tunisia', 'Albania', 'Israel', 'Trinidad and Tobago', 'Peru', 'China', 'Mozambique', 'Austria', 'Finland', 'Puerto Rico', 'Swaziland', 'Tajikistan', 'Colombia', 'Romania', 'Costa Rica', 'Czechoslovakia', 'Taiwan', 'Palestine', 'Saudi Arabia', 'Montenegro', 'Kyrgyzstan', 'Lebanon', 'Bahrain', 'Libya', 'Poland', 'Estonia', 'Zambia', 'Slovenia', 'Sweden', 'Haiti', 'Seychelles', 'Sao Tome and Principe', 'Kazakhstan', 'Armenia', 'Vietnam', 'Nicaragua', 'Mali', 'El Salvador', 'United Arab Emirates', 'Cameroon', 'Sudan', 'Dominican Republic', 'Guatemala', 'Laos', 'Qatar', 'Morocco', 'United States', 'Zimbabwe', 'Mauritania', 'Uruguay', 'Chile', 'Philippines', 'Belgium', 'Barbados', 'Kuwait', 'Turkmenistan', 'Benin', 'Ghana', 'Georgia', 'Mongolia', 'Madagascar', 'Ireland', 'Kenya', 'Luxembourg', 'Togo', 'Czech Republic', 'Bosnia and Herzegovina', 'Liberia', 'Angola', 'Egypt', 'Bangladesh', 'Jordan', 'Myanmar', 'Iraq', 'Burundi', 'Sierra Leone', 'Hong Kong', 'Iceland', 'Comoros', 'Netherlands', 'Ethiopia', 'South Korea', 'Mexico', 'Switzerland', 'Afghanistan', 'Germany', 'Venezuela', 'Paraguay', 'Turkey', 'Moldova', 'Guinea', 'Botswana', 'Serbia', 'United Kingdom', 'Norway', 'Latvia', 'Singapore', 'Gabon', 'Iran', 'Greece', 'Honduras', 'Senegal', \"Cote d'Ivoire\", 'South Africa', 'Macedonia', 'Sri Lanka', 'Thailand', 'Japan', 'Syria', 'Tanzania', 'Lesotho', 'Australia', 'Nigeria', 'Djibouti', 'Bolivia', 'Central African Republic', 'Malawi', 'Gambia', 'Oman', 'Pakistan', 'Slovakia', 'Ecuador', 'Equatorial Guinea', 'France', 'Malta', 'Indonesia', 'India'}\n"
     ]
    }
   ],
   "source": [
    "countries_highGDP_lowLE = set()\n",
    "mean_for_data = data.mean(axis=0)\n",
    "for index2, row2 in df2.iterrows():\n",
    "    if row2['Year'] == 2015:\n",
    "        for index1, row1 in df1.iterrows():\n",
    "            if row1['GDP per capita'] > data.mean(axis=0)[0] and row2['Life expectancy (years)'] < data.mean(axis=0)[1] :\n",
    "                countries_lowGDP_highLE.add(row1['Entity'])\n",
    "\n",
    "print(countries_lowGDP_highLE)"
   ]
  },
  {
   "cell_type": "markdown",
   "id": "differential-birthday",
   "metadata": {},
   "source": [
    "### g.\n",
    "TODO"
   ]
  },
  {
   "cell_type": "markdown",
   "id": "familiar-cemetery",
   "metadata": {},
   "source": [
    "## 2.\n",
    "\n",
    "### a.\n"
   ]
  },
  {
   "cell_type": "markdown",
   "id": "macro-saver",
   "metadata": {},
   "source": [
    "### b.\n"
   ]
  }
 ],
 "metadata": {
  "kernelspec": {
   "display_name": "Python 3",
   "language": "python",
   "name": "python3"
  },
  "language_info": {
   "codemirror_mode": {
    "name": "ipython",
    "version": 3
   },
   "file_extension": ".py",
   "mimetype": "text/x-python",
   "name": "python",
   "nbconvert_exporter": "python",
   "pygments_lexer": "ipython3",
   "version": "3.8.5"
  }
 },
 "nbformat": 4,
 "nbformat_minor": 5
}
